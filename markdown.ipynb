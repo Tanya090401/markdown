{
  "metadata": {
    "kernelspec": {
      "name": "python",
      "display_name": "Python (Pyodide)",
      "language": "python"
    },
    "language_info": {
      "codemirror_mode": {
        "name": "python",
        "version": 3
      },
      "file_extension": ".py",
      "mimetype": "text/x-python",
      "name": "python",
      "nbconvert_exporter": "python",
      "pygments_lexer": "ipython3",
      "version": "3.8"
    }
  },
  "nbformat_minor": 4,
  "nbformat": 4,
  "cells": [
    {
      "cell_type": "markdown",
      "source": "# _This is my *learning*_",
      "metadata": {}
    },
    {
      "cell_type": "markdown",
      "source": "## This in my learning with data science course. I learned about various languages and machine learning.",
      "metadata": {}
    },
    {
      "cell_type": "markdown",
      "source": "### List of Data science languages\n- Python\n- Java\n- Julia\n- SQL\n- R\n- JavaScript",
      "metadata": {
        "jp-MarkdownHeadingCollapsed": true
      }
    },
    {
      "cell_type": "markdown",
      "source": "### List of Data Science Libraries\n- NumPy\n- Pandas\n- Scikit-learn\n- TensorFlow\n- PyTorch",
      "metadata": {
        "jp-MarkdownHeadingCollapsed": true
      }
    },
    {
      "cell_type": "markdown",
      "source": "### Table for Data Science Tool\n\n| Category | Tool | Description |\n| ---------|-------|----------- |\n| Programming Language | Python | use for data analysis; machine learning; scientific computing |\n| Programming Language | R | Statistical Progrsamming Language; for data anylis; statistical modeling|\n|IDEs and Notebooks| Jupyter Notebooks | Interactive computing environment allowing code, text and visualization in a single document|\n|Database management | SQL (Structured Query Language) | Language for managing and querying rational database|\n\n\n",
      "metadata": {}
    },
    {
      "cell_type": "markdown",
      "source": "## Introduction with arthemetic expression such as addition and subtraction using code tool. it can be use for arthematic operations",
      "metadata": {}
    },
    {
      "cell_type": "code",
      "source": "#addition operation\n5788909 + 666688",
      "metadata": {
        "trusted": true
      },
      "outputs": [
        {
          "execution_count": 25,
          "output_type": "execute_result",
          "data": {
            "text/plain": "6455597"
          },
          "metadata": {}
        }
      ],
      "execution_count": 25
    },
    {
      "cell_type": "code",
      "source": "#multiplication operation\n56778*6678",
      "metadata": {
        "trusted": true
      },
      "outputs": [
        {
          "execution_count": 26,
          "output_type": "execute_result",
          "data": {
            "text/plain": "379163484"
          },
          "metadata": {}
        }
      ],
      "execution_count": 26
    },
    {
      "cell_type": "code",
      "source": "# Minute to an hour \n320 /60",
      "metadata": {
        "trusted": true
      },
      "outputs": [
        {
          "execution_count": 27,
          "output_type": "execute_result",
          "data": {
            "text/plain": "5.333333333333333"
          },
          "metadata": {}
        }
      ],
      "execution_count": 27
    },
    {
      "cell_type": "code",
      "source": "0.33 * 60",
      "metadata": {
        "trusted": true
      },
      "outputs": [
        {
          "execution_count": 28,
          "output_type": "execute_result",
          "data": {
            "text/plain": "19.8"
          },
          "metadata": {}
        }
      ],
      "execution_count": 28
    },
    {
      "cell_type": "code",
      "source": "# 5 hours 19 min",
      "metadata": {
        "trusted": true
      },
      "outputs": [],
      "execution_count": 29
    },
    {
      "cell_type": "markdown",
      "source": "## List of objectives\n1. to learn data science\n2. to finish the course",
      "metadata": {}
    },
    {
      "cell_type": "markdown",
      "source": "## Author\n### Tanya Bhagat",
      "metadata": {}
    },
    {
      "cell_type": "code",
      "source": "",
      "metadata": {
        "trusted": true
      },
      "outputs": [],
      "execution_count": null
    }
  ]
}